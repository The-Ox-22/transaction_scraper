{
 "cells": [
  {
   "cell_type": "code",
   "execution_count": null,
   "metadata": {},
   "outputs": [],
   "source": [
    "from chrome_bofa_scraper import login_to_bofa\n",
    "from chrome_bofa_scraper import init_headless_driver\n",
    "from chrome_bofa_scraper import scrape_accounts_for_month\n",
    "from chrome_bofa_scraper import close_scrape\n",
    "import os"
   ]
  },
  {
   "cell_type": "markdown",
   "metadata": {},
   "source": [
    "# Run the BofA scraper"
   ]
  },
  {
   "cell_type": "code",
   "execution_count": null,
   "metadata": {},
   "outputs": [],
   "source": [
    "\n",
    "driver = init_headless_driver()\n",
    "login_to_bofa(driver, os.environ.get('BOA_USER'), os.environ.get('BOA_PASSWORD'))\n",
    "acc_data = scrape_accounts_for_month(driver, 4, 2024)\n",
    "close_scrape(driver)"
   ]
  },
  {
   "cell_type": "markdown",
   "metadata": {},
   "source": [
    "# Work with Transactions from BofA\n",
    "## TODOs\n",
    "* write this to a convenient file that is stored somewhere.\n",
    "* could be to the google sheets, or maybe something else?"
   ]
  },
  {
   "cell_type": "code",
   "execution_count": null,
   "metadata": {},
   "outputs": [],
   "source": [
    "# (mc_balace, mc_transactions) = acc_data['Customized Cash Rewards World Mastercard Card - 7962']\n",
    "# print(mc_transactions[0].date)\n",
    "for (key, (mc_balance, mc_transactions)) in acc_data.items():\n",
    "    print(f'{key}\\nBalance: {mc_balance}')\n",
    "    for t in mc_transactions:\n",
    "        print(f'date: {t.date} amt: {t.amount} desc: {t.desc}')\n",
    "    print('\\n')\n"
   ]
  },
  {
   "cell_type": "code",
   "execution_count": null,
   "metadata": {},
   "outputs": [],
   "source": [
    "import csv "
   ]
  },
  {
   "cell_type": "code",
   "execution_count": null,
   "metadata": {},
   "outputs": [],
   "source": [
    "# formatting for csv writing\n",
    "csv_list = []\n",
    "for (key, (mc_balance, mc_transactions)) in acc_data.items():\n",
    "        for t in mc_transactions:\n",
    "            csv_list.append([t.desc, t.amount])"
   ]
  },
  {
   "cell_type": "code",
   "execution_count": null,
   "metadata": {},
   "outputs": [],
   "source": [
    "with open('./transactions.csv', 'w', newline='') as csvfile:\n",
    "    csvwriter = csv.writer(csvfile)\n",
    "    csvwriter.writerows(csv_list)"
   ]
  },
  {
   "cell_type": "markdown",
   "metadata": {},
   "source": [
    "# Truity Scraper in work"
   ]
  },
  {
   "cell_type": "code",
   "execution_count": null,
   "metadata": {},
   "outputs": [],
   "source": [
    "# # Chrome truity scraper.\n",
    "# from selenium import webdriver \n",
    "# from selenium.webdriver.common.by import By\n",
    "# from selenium.webdriver.common.keys import Keys\n",
    "# from datetime import datetime\n",
    "\n",
    "# # from selenium.common.exceptions import NoSuchElementException\n",
    "# from selenium.common.exceptions import StaleElementReferenceException\n",
    "# from selenium.webdriver.support.ui import WebDriverWait\n",
    "# from selenium.webdriver.support import expected_conditions\n",
    "# from selenium.webdriver.common.action_chains import ActionChains\n",
    "\n",
    "# class Transaction:\n",
    "#     date_format = '%m/%d/%Y'\n",
    "#     def __init__(self):\n",
    "#         self.amount: float = 0.0\n",
    "#         # self.date: datetime.date = datetime.strptime('01/01/1997', '%m/%d/%Y') \n",
    "#         self.date: str = ''\n",
    "#         self.desc: str = ''\n",
    "\n",
    "\n",
    "# def init_headless_driver() -> webdriver.Chrome:\n",
    "#     options = webdriver.ChromeOptions()\n",
    "#     options.accept_insecure_certs = False \n",
    "#     options.headless = True # doesnt seem to actually work.. maybe try some of the below?\n",
    "#     # chrome_options.add_argument('--disable-extensions')\n",
    "#     # chrome_options.add_argument('--disable-gpu')\n",
    "#     # chrome_options.add_argument('--no-sandbox') # linux only\n",
    "#     # chrome_options.add_argument('--headless=new') # for Chrome >= 109\n",
    "#     # chrome_options.add_argument('--headless')\n",
    "#     # chrome_options.headless = True # also works\n",
    "#     return webdriver.Chrome(options=options)\n",
    "\n",
    "# # login to truity\n",
    "# # truity_driver.set_window_size(1280, 972)\n",
    "# def test():\n",
    "#     truity_user = os.environ.get('TRUITY_USER')\n",
    "#     truity_pass = os.environ.get('TRUITY_PASSWORD')\n",
    "#     truity_driver = init_headless_driver()\n",
    "#     print('attempting to go to url')\n",
    "#     truity_driver.get('https://secure.truitycu.org/login')\n",
    "#     print('made it to url')\n",
    "\n",
    "#     banno = truity_driver.find_element(By.TAG_NAME, 'bannoweb-login-username') #for some reason doing the username steps separate helps..\n",
    "#     user = banno.find_element(By.ID, 'username')\n",
    "#     user.send_keys(truity_user)\n",
    "#     jhabutton = banno.find_element(By.TAG_NAME, 'jha-button')\n",
    "#     print('Attempting to click button')\n",
    "#     jhabutton.submit()\n",
    "\n",
    "#     # submit keys to the input field\n",
    "#     banno_login = truity_driver.find_element(By.TAG_NAME, 'bannoweb-login')\n",
    "#     banno_pass_steps = banno_login.find_element(By.TAG_NAME, 'bannoweb-login-steps')\n",
    "#     article = banno_pass_steps.find_element(By.TAG_NAME, 'article')\n",
    "#     banno_pass_form = article.find_element(By.TAG_NAME, 'form')\n",
    "#     banno_pass_jha = banno_pass_form.find_element(By.TAG_NAME, 'jha-form-floating-group')\n",
    "#     # shadow_root = truity_driver.execute_script('return arguments[0].shadowRoot', banno_pass_jha)\n",
    "#     # slot = shadow_root.find_element(By.CSS_SELECTOR, 'slot')\n",
    "#     # input_element = slot.find_element(By.TAG_NAME, 'input')\n",
    "#     # # input_element = truity_driver.execute_script('return arguments[0].assignedNodes()[1]', slot)\n",
    "#     # print(f'****************\\n{slot}')\n",
    "    \n",
    "#     input_element = banno_pass_jha.find_element(By.XPATH, '//*[@id='password']')\n",
    "    \n",
    "#     # input_element = truity_driver.execute_script('return arguments[0].assignedNodes().find(node => node.nodeType === Node.ELEMENT_NODE && node.tagName.toLowerCase() === 'input')', slot)\n",
    "#     input_element.send_keys(truity_pass)\n",
    "#     # pass_in = banno_pass_jha.find_element(By.ID, 'password')\n",
    "#     # pass_in.send_keys(truity_pass)\n",
    "#     # pass_in.send_keys(Keys.RETURN)\n",
    "    \n",
    "\n",
    "#     # find and submit the button with keys and user\n",
    "#     for flex in banno_pass_form.find_elements(By.TAG_NAME, 'bannoweb-flex-wrapper'):\n",
    "#         try:\n",
    "#             text_right = flex.find_element(By.CLASS_NAME, 'text-right')\n",
    "#             print('found element with class text-right. attempting to click button')\n",
    "#             text_right.find_element(By.TAG_NAME, 'jha-button').submit()\n",
    "#             print('button clicked')\n",
    "#         except:\n",
    "#             print('found no element with class text-right in this flex form')\n",
    "\n",
    "\n",
    "#     truity_driver.find_element(By.CLASS_NAME, 'input').send_keys(input('Text Code: '))\n",
    "#     button = truity_driver.find_element(By.CLASS_NAME, 'button')\n",
    "#     if not 'Verify' in button.text:\n",
    "#         print('Did not find verify button')\n",
    "#         return\n",
    "#     button.submit()\n",
    "\n",
    "#     if not truity_driver.current_url.startswith('https://secure.truitycu.org/login'):\n",
    "#         print('Login Succeeded')\n",
    "#     else:\n",
    "#         print('Login Failed')\n",
    "#         return\n",
    "\n",
    "#     # look for transactions\n",
    "#     # truity_driver.find_element(By.ID, 'viewAll').click() ??\n",
    "#     # viewtransactions = truity_driver.find_element(By.ID, 'viewAll')\n",
    "#     # viewtransactions.find_element(By.TAG_NAME, 'a').click()\n",
    "\n",
    "#     # transactions = truity_driver.find_elements(By.TAG_NAME, 'jha-list-item')\n",
    "#     # for tran in transactions:\n",
    "#     #     t = Transaction()\n",
    "#     #     t.desc = tran.find_element(By.CLASS_NAME, 'transaction-title').text\n",
    "#     #     t.date = tran.find_element(By.CLASS_NAME, 'transaction-date').text\n",
    "#     #     amtel = float(tran.find_element(By.TAG_NAME, 'bannoweb-currency').find_element(By.TAG_NAME, 'span').text.replace(',', '').replace('$', ''))\n",
    "#         # t.amount = tran.find_element\n",
    "\n",
    "# test()"
   ]
  }
 ],
 "metadata": {
  "kernelspec": {
   "display_name": "venv",
   "language": "python",
   "name": "python3"
  },
  "language_info": {
   "codemirror_mode": {
    "name": "ipython",
    "version": 3
   },
   "file_extension": ".py",
   "mimetype": "text/x-python",
   "name": "python",
   "nbconvert_exporter": "python",
   "pygments_lexer": "ipython3",
   "version": "3.10.11"
  },
  "orig_nbformat": 4
 },
 "nbformat": 4,
 "nbformat_minor": 2
}
