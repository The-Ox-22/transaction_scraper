{
 "cells": [
  {
   "cell_type": "code",
   "execution_count": 10,
   "metadata": {},
   "outputs": [],
   "source": [
    "from chrome_bofa_scraper import login_to_bofa\n",
    "from chrome_bofa_scraper import init_headless_driver\n",
    "from chrome_bofa_scraper import scrape_accounts_for_month\n",
    "from chrome_bofa_scraper import close_scrape\n",
    "import os\n",
    "from dotenv import load_dotenv"
   ]
  },
  {
   "cell_type": "markdown",
   "metadata": {},
   "source": [
    "# Run the BofA scraper"
   ]
  },
  {
   "cell_type": "code",
   "execution_count": 11,
   "metadata": {},
   "outputs": [
    {
     "ename": "NoSuchElementException",
     "evalue": "Message: no such element: Unable to locate element: {\"method\":\"css selector\",\"selector\":\".authcode\"}\n  (Session info: chrome=137.0.7151.103); For documentation on this error, please visit: https://www.selenium.dev/documentation/webdriver/troubleshooting/errors#no-such-element-exception\nStacktrace:\n#0 0x55cfb10f545a <unknown>\n#1 0x55cfb0b9a760 <unknown>\n#2 0x55cfb0bec127 <unknown>\n#3 0x55cfb0bec321 <unknown>\n#4 0x55cfb0c3ae94 <unknown>\n#5 0x55cfb0c11e7d <unknown>\n#6 0x55cfb0c3830b <unknown>\n#7 0x55cfb0c11c23 <unknown>\n#8 0x55cfb0bde4a5 <unknown>\n#9 0x55cfb0bdf111 <unknown>\n#10 0x55cfb10b9f1b <unknown>\n#11 0x55cfb10bde19 <unknown>\n#12 0x55cfb10a0ac9 <unknown>\n#13 0x55cfb10be9c8 <unknown>\n#14 0x55cfb108534f <unknown>\n#15 0x55cfb10e2a28 <unknown>\n#16 0x55cfb10e2c06 <unknown>\n#17 0x55cfb10f4336 <unknown>\n#18 0x7f45e1132fa8 start_thread\n#19 0x7f45e11b6fcc __clone3\n",
     "output_type": "error",
     "traceback": [
      "\u001b[31m---------------------------------------------------------------------------\u001b[39m",
      "\u001b[31mNoSuchElementException\u001b[39m                    Traceback (most recent call last)",
      "\u001b[36mCell\u001b[39m\u001b[36m \u001b[39m\u001b[32mIn[11]\u001b[39m\u001b[32m, line 3\u001b[39m\n\u001b[32m      1\u001b[39m load_dotenv()\n\u001b[32m      2\u001b[39m driver = init_headless_driver()\n\u001b[32m----> \u001b[39m\u001b[32m3\u001b[39m \u001b[43mlogin_to_bofa\u001b[49m\u001b[43m(\u001b[49m\u001b[43mdriver\u001b[49m\u001b[43m,\u001b[49m\u001b[43m \u001b[49m\u001b[43mos\u001b[49m\u001b[43m.\u001b[49m\u001b[43menviron\u001b[49m\u001b[43m.\u001b[49m\u001b[43mget\u001b[49m\u001b[43m(\u001b[49m\u001b[33;43m'\u001b[39;49m\u001b[33;43mBOA_USER\u001b[39;49m\u001b[33;43m'\u001b[39;49m\u001b[43m)\u001b[49m\u001b[43m,\u001b[49m\u001b[43m \u001b[49m\u001b[43mos\u001b[49m\u001b[43m.\u001b[49m\u001b[43menviron\u001b[49m\u001b[43m.\u001b[49m\u001b[43mget\u001b[49m\u001b[43m(\u001b[49m\u001b[33;43m'\u001b[39;49m\u001b[33;43mBOA_PASSWORD\u001b[39;49m\u001b[33;43m'\u001b[39;49m\u001b[43m)\u001b[49m\u001b[43m)\u001b[49m\n\u001b[32m      4\u001b[39m acc_data = scrape_accounts_for_month(driver, \u001b[32m4\u001b[39m, \u001b[32m2024\u001b[39m)\n\u001b[32m      5\u001b[39m close_scrape(driver)\n",
      "\u001b[36mFile \u001b[39m\u001b[32m~/personal/transaction_scraper/chrome_bofa_scraper.py:34\u001b[39m, in \u001b[36mlogin_to_bofa\u001b[39m\u001b[34m(driver, username, passcode)\u001b[39m\n\u001b[32m     32\u001b[39m \u001b[38;5;28;01mif\u001b[39;00m driver.current_url == \u001b[33m\"\u001b[39m\u001b[33mhttps://secure.bankofamerica.com/login/sign-in/signOnSuccessRedirect.go\u001b[39m\u001b[33m\"\u001b[39m:\n\u001b[32m     33\u001b[39m     driver.find_element(By.ID, \u001b[33m\"\u001b[39m\u001b[33mbtnARContinue\u001b[39m\u001b[33m\"\u001b[39m).click()\n\u001b[32m---> \u001b[39m\u001b[32m34\u001b[39m     \u001b[43mdriver\u001b[49m\u001b[43m.\u001b[49m\u001b[43mfind_element\u001b[49m\u001b[43m(\u001b[49m\u001b[43mBy\u001b[49m\u001b[43m.\u001b[49m\u001b[43mCLASS_NAME\u001b[49m\u001b[43m,\u001b[49m\u001b[43m \u001b[49m\u001b[33;43m\"\u001b[39;49m\u001b[33;43mauthcode\u001b[39;49m\u001b[33;43m\"\u001b[39;49m\u001b[43m)\u001b[49m.send_keys(\u001b[38;5;28minput\u001b[39m())\n\u001b[32m     35\u001b[39m     driver.find_element(By.ID, \u001b[33m\"\u001b[39m\u001b[33myes-recognize\u001b[39m\u001b[33m\"\u001b[39m).click()\n\u001b[32m     36\u001b[39m     driver.find_element(By.ID, \u001b[33m\"\u001b[39m\u001b[33mcontinue-auth-number\u001b[39m\u001b[33m\"\u001b[39m).click()\n",
      "\u001b[36mFile \u001b[39m\u001b[32m~/personal/transaction_scraper/.venv/lib64/python3.13/site-packages/selenium/webdriver/remote/webdriver.py:914\u001b[39m, in \u001b[36mWebDriver.find_element\u001b[39m\u001b[34m(self, by, value)\u001b[39m\n\u001b[32m    911\u001b[39m         \u001b[38;5;28;01mraise\u001b[39;00m NoSuchElementException(\u001b[33mf\u001b[39m\u001b[33m\"\u001b[39m\u001b[33mCannot locate relative element with: \u001b[39m\u001b[38;5;132;01m{\u001b[39;00mby.root\u001b[38;5;132;01m}\u001b[39;00m\u001b[33m\"\u001b[39m)\n\u001b[32m    912\u001b[39m     \u001b[38;5;28;01mreturn\u001b[39;00m elements[\u001b[32m0\u001b[39m]\n\u001b[32m--> \u001b[39m\u001b[32m914\u001b[39m \u001b[38;5;28;01mreturn\u001b[39;00m \u001b[38;5;28;43mself\u001b[39;49m\u001b[43m.\u001b[49m\u001b[43mexecute\u001b[49m\u001b[43m(\u001b[49m\u001b[43mCommand\u001b[49m\u001b[43m.\u001b[49m\u001b[43mFIND_ELEMENT\u001b[49m\u001b[43m,\u001b[49m\u001b[43m \u001b[49m\u001b[43m{\u001b[49m\u001b[33;43m\"\u001b[39;49m\u001b[33;43musing\u001b[39;49m\u001b[33;43m\"\u001b[39;49m\u001b[43m:\u001b[49m\u001b[43m \u001b[49m\u001b[43mby\u001b[49m\u001b[43m,\u001b[49m\u001b[43m \u001b[49m\u001b[33;43m\"\u001b[39;49m\u001b[33;43mvalue\u001b[39;49m\u001b[33;43m\"\u001b[39;49m\u001b[43m:\u001b[49m\u001b[43m \u001b[49m\u001b[43mvalue\u001b[49m\u001b[43m}\u001b[49m\u001b[43m)\u001b[49m[\u001b[33m\"\u001b[39m\u001b[33mvalue\u001b[39m\u001b[33m\"\u001b[39m]\n",
      "\u001b[36mFile \u001b[39m\u001b[32m~/personal/transaction_scraper/.venv/lib64/python3.13/site-packages/selenium/webdriver/remote/webdriver.py:447\u001b[39m, in \u001b[36mWebDriver.execute\u001b[39m\u001b[34m(self, driver_command, params)\u001b[39m\n\u001b[32m    445\u001b[39m response = \u001b[38;5;28mself\u001b[39m.command_executor.execute(driver_command, params)\n\u001b[32m    446\u001b[39m \u001b[38;5;28;01mif\u001b[39;00m response:\n\u001b[32m--> \u001b[39m\u001b[32m447\u001b[39m     \u001b[38;5;28;43mself\u001b[39;49m\u001b[43m.\u001b[49m\u001b[43merror_handler\u001b[49m\u001b[43m.\u001b[49m\u001b[43mcheck_response\u001b[49m\u001b[43m(\u001b[49m\u001b[43mresponse\u001b[49m\u001b[43m)\u001b[49m\n\u001b[32m    448\u001b[39m     response[\u001b[33m\"\u001b[39m\u001b[33mvalue\u001b[39m\u001b[33m\"\u001b[39m] = \u001b[38;5;28mself\u001b[39m._unwrap_value(response.get(\u001b[33m\"\u001b[39m\u001b[33mvalue\u001b[39m\u001b[33m\"\u001b[39m, \u001b[38;5;28;01mNone\u001b[39;00m))\n\u001b[32m    449\u001b[39m     \u001b[38;5;28;01mreturn\u001b[39;00m response\n",
      "\u001b[36mFile \u001b[39m\u001b[32m~/personal/transaction_scraper/.venv/lib64/python3.13/site-packages/selenium/webdriver/remote/errorhandler.py:232\u001b[39m, in \u001b[36mErrorHandler.check_response\u001b[39m\u001b[34m(self, response)\u001b[39m\n\u001b[32m    230\u001b[39m         alert_text = value[\u001b[33m\"\u001b[39m\u001b[33malert\u001b[39m\u001b[33m\"\u001b[39m].get(\u001b[33m\"\u001b[39m\u001b[33mtext\u001b[39m\u001b[33m\"\u001b[39m)\n\u001b[32m    231\u001b[39m     \u001b[38;5;28;01mraise\u001b[39;00m exception_class(message, screen, stacktrace, alert_text)  \u001b[38;5;66;03m# type: ignore[call-arg]  # mypy is not smart enough here\u001b[39;00m\n\u001b[32m--> \u001b[39m\u001b[32m232\u001b[39m \u001b[38;5;28;01mraise\u001b[39;00m exception_class(message, screen, stacktrace)\n",
      "\u001b[31mNoSuchElementException\u001b[39m: Message: no such element: Unable to locate element: {\"method\":\"css selector\",\"selector\":\".authcode\"}\n  (Session info: chrome=137.0.7151.103); For documentation on this error, please visit: https://www.selenium.dev/documentation/webdriver/troubleshooting/errors#no-such-element-exception\nStacktrace:\n#0 0x55cfb10f545a <unknown>\n#1 0x55cfb0b9a760 <unknown>\n#2 0x55cfb0bec127 <unknown>\n#3 0x55cfb0bec321 <unknown>\n#4 0x55cfb0c3ae94 <unknown>\n#5 0x55cfb0c11e7d <unknown>\n#6 0x55cfb0c3830b <unknown>\n#7 0x55cfb0c11c23 <unknown>\n#8 0x55cfb0bde4a5 <unknown>\n#9 0x55cfb0bdf111 <unknown>\n#10 0x55cfb10b9f1b <unknown>\n#11 0x55cfb10bde19 <unknown>\n#12 0x55cfb10a0ac9 <unknown>\n#13 0x55cfb10be9c8 <unknown>\n#14 0x55cfb108534f <unknown>\n#15 0x55cfb10e2a28 <unknown>\n#16 0x55cfb10e2c06 <unknown>\n#17 0x55cfb10f4336 <unknown>\n#18 0x7f45e1132fa8 start_thread\n#19 0x7f45e11b6fcc __clone3\n"
     ]
    }
   ],
   "source": [
    "load_dotenv()\n",
    "driver = init_headless_driver()\n",
    "login_to_bofa(driver, os.environ.get('BOA_USER'), os.environ.get('BOA_PASSWORD'))\n",
    "acc_data = scrape_accounts_for_month(driver, 4, 2024)\n",
    "close_scrape(driver)"
   ]
  },
  {
   "cell_type": "markdown",
   "metadata": {},
   "source": [
    "# Work with Transactions from BofA\n",
    "## TODOs\n",
    "* write this to a convenient file that is stored somewhere.\n",
    "* could be to the google sheets, or maybe something else?"
   ]
  },
  {
   "cell_type": "code",
   "execution_count": null,
   "metadata": {},
   "outputs": [],
   "source": [
    "# (mc_balace, mc_transactions) = acc_data['Customized Cash Rewards World Mastercard Card - 7962']\n",
    "# print(mc_transactions[0].date)\n",
    "for (key, (mc_balance, mc_transactions)) in acc_data.items():\n",
    "    print(f'{key}\\nBalance: {mc_balance}')\n",
    "    for t in mc_transactions:\n",
    "        print(f'date: {t.date} amt: {t.amount} desc: {t.desc}')\n",
    "    print('\\n')\n"
   ]
  },
  {
   "cell_type": "code",
   "execution_count": null,
   "metadata": {},
   "outputs": [],
   "source": [
    "import csv "
   ]
  },
  {
   "cell_type": "code",
   "execution_count": null,
   "metadata": {},
   "outputs": [],
   "source": [
    "# formatting for csv writing\n",
    "csv_list = []\n",
    "for (key, (mc_balance, mc_transactions)) in acc_data.items():\n",
    "        for t in mc_transactions:\n",
    "            csv_list.append([t.desc, t.amount])"
   ]
  },
  {
   "cell_type": "code",
   "execution_count": null,
   "metadata": {},
   "outputs": [],
   "source": [
    "with open('./transactions.csv', 'w', newline='') as csvfile:\n",
    "    csvwriter = csv.writer(csvfile)\n",
    "    csvwriter.writerows(csv_list)"
   ]
  },
  {
   "cell_type": "markdown",
   "metadata": {},
   "source": [
    "# Truity Scraper in work"
   ]
  },
  {
   "cell_type": "code",
   "execution_count": null,
   "metadata": {},
   "outputs": [],
   "source": [
    "# # Chrome truity scraper.\n",
    "# from selenium import webdriver \n",
    "# from selenium.webdriver.common.by import By\n",
    "# from selenium.webdriver.common.keys import Keys\n",
    "# from datetime import datetime\n",
    "\n",
    "# # from selenium.common.exceptions import NoSuchElementException\n",
    "# from selenium.common.exceptions import StaleElementReferenceException\n",
    "# from selenium.webdriver.support.ui import WebDriverWait\n",
    "# from selenium.webdriver.support import expected_conditions\n",
    "# from selenium.webdriver.common.action_chains import ActionChains\n",
    "\n",
    "# class Transaction:\n",
    "#     date_format = '%m/%d/%Y'\n",
    "#     def __init__(self):\n",
    "#         self.amount: float = 0.0\n",
    "#         # self.date: datetime.date = datetime.strptime('01/01/1997', '%m/%d/%Y') \n",
    "#         self.date: str = ''\n",
    "#         self.desc: str = ''\n",
    "\n",
    "\n",
    "# def init_headless_driver() -> webdriver.Chrome:\n",
    "#     options = webdriver.ChromeOptions()\n",
    "#     options.accept_insecure_certs = False \n",
    "#     options.headless = True # doesnt seem to actually work.. maybe try some of the below?\n",
    "#     # chrome_options.add_argument('--disable-extensions')\n",
    "#     # chrome_options.add_argument('--disable-gpu')\n",
    "#     # chrome_options.add_argument('--no-sandbox') # linux only\n",
    "#     # chrome_options.add_argument('--headless=new') # for Chrome >= 109\n",
    "#     # chrome_options.add_argument('--headless')\n",
    "#     # chrome_options.headless = True # also works\n",
    "#     return webdriver.Chrome(options=options)\n",
    "\n",
    "# # login to truity\n",
    "# # truity_driver.set_window_size(1280, 972)\n",
    "# def test():\n",
    "#     truity_user = os.environ.get('TRUITY_USER')\n",
    "#     truity_pass = os.environ.get('TRUITY_PASSWORD')\n",
    "#     truity_driver = init_headless_driver()\n",
    "#     print('attempting to go to url')\n",
    "#     truity_driver.get('https://secure.truitycu.org/login')\n",
    "#     print('made it to url')\n",
    "\n",
    "#     banno = truity_driver.find_element(By.TAG_NAME, 'bannoweb-login-username') #for some reason doing the username steps separate helps..\n",
    "#     user = banno.find_element(By.ID, 'username')\n",
    "#     user.send_keys(truity_user)\n",
    "#     jhabutton = banno.find_element(By.TAG_NAME, 'jha-button')\n",
    "#     print('Attempting to click button')\n",
    "#     jhabutton.submit()\n",
    "\n",
    "#     # submit keys to the input field\n",
    "#     banno_login = truity_driver.find_element(By.TAG_NAME, 'bannoweb-login')\n",
    "#     banno_pass_steps = banno_login.find_element(By.TAG_NAME, 'bannoweb-login-steps')\n",
    "#     article = banno_pass_steps.find_element(By.TAG_NAME, 'article')\n",
    "#     banno_pass_form = article.find_element(By.TAG_NAME, 'form')\n",
    "#     banno_pass_jha = banno_pass_form.find_element(By.TAG_NAME, 'jha-form-floating-group')\n",
    "#     # shadow_root = truity_driver.execute_script('return arguments[0].shadowRoot', banno_pass_jha)\n",
    "#     # slot = shadow_root.find_element(By.CSS_SELECTOR, 'slot')\n",
    "#     # input_element = slot.find_element(By.TAG_NAME, 'input')\n",
    "#     # # input_element = truity_driver.execute_script('return arguments[0].assignedNodes()[1]', slot)\n",
    "#     # print(f'****************\\n{slot}')\n",
    "    \n",
    "#     input_element = banno_pass_jha.find_element(By.XPATH, '//*[@id='password']')\n",
    "    \n",
    "#     # input_element = truity_driver.execute_script('return arguments[0].assignedNodes().find(node => node.nodeType === Node.ELEMENT_NODE && node.tagName.toLowerCase() === 'input')', slot)\n",
    "#     input_element.send_keys(truity_pass)\n",
    "#     # pass_in = banno_pass_jha.find_element(By.ID, 'password')\n",
    "#     # pass_in.send_keys(truity_pass)\n",
    "#     # pass_in.send_keys(Keys.RETURN)\n",
    "    \n",
    "\n",
    "#     # find and submit the button with keys and user\n",
    "#     for flex in banno_pass_form.find_elements(By.TAG_NAME, 'bannoweb-flex-wrapper'):\n",
    "#         try:\n",
    "#             text_right = flex.find_element(By.CLASS_NAME, 'text-right')\n",
    "#             print('found element with class text-right. attempting to click button')\n",
    "#             text_right.find_element(By.TAG_NAME, 'jha-button').submit()\n",
    "#             print('button clicked')\n",
    "#         except:\n",
    "#             print('found no element with class text-right in this flex form')\n",
    "\n",
    "\n",
    "#     truity_driver.find_element(By.CLASS_NAME, 'input').send_keys(input('Text Code: '))\n",
    "#     button = truity_driver.find_element(By.CLASS_NAME, 'button')\n",
    "#     if not 'Verify' in button.text:\n",
    "#         print('Did not find verify button')\n",
    "#         return\n",
    "#     button.submit()\n",
    "\n",
    "#     if not truity_driver.current_url.startswith('https://secure.truitycu.org/login'):\n",
    "#         print('Login Succeeded')\n",
    "#     else:\n",
    "#         print('Login Failed')\n",
    "#         return\n",
    "\n",
    "#     # look for transactions\n",
    "#     # truity_driver.find_element(By.ID, 'viewAll').click() ??\n",
    "#     # viewtransactions = truity_driver.find_element(By.ID, 'viewAll')\n",
    "#     # viewtransactions.find_element(By.TAG_NAME, 'a').click()\n",
    "\n",
    "#     # transactions = truity_driver.find_elements(By.TAG_NAME, 'jha-list-item')\n",
    "#     # for tran in transactions:\n",
    "#     #     t = Transaction()\n",
    "#     #     t.desc = tran.find_element(By.CLASS_NAME, 'transaction-title').text\n",
    "#     #     t.date = tran.find_element(By.CLASS_NAME, 'transaction-date').text\n",
    "#     #     amtel = float(tran.find_element(By.TAG_NAME, 'bannoweb-currency').find_element(By.TAG_NAME, 'span').text.replace(',', '').replace('$', ''))\n",
    "#         # t.amount = tran.find_element\n",
    "\n",
    "# test()"
   ]
  }
 ],
 "metadata": {
  "kernelspec": {
   "display_name": ".venv",
   "language": "python",
   "name": "python3"
  },
  "language_info": {
   "codemirror_mode": {
    "name": "ipython",
    "version": 3
   },
   "file_extension": ".py",
   "mimetype": "text/x-python",
   "name": "python",
   "nbconvert_exporter": "python",
   "pygments_lexer": "ipython3",
   "version": "3.13.3"
  },
  "orig_nbformat": 4
 },
 "nbformat": 4,
 "nbformat_minor": 2
}
